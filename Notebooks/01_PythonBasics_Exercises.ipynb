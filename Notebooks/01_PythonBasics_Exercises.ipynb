{
  "cells": [
    {
      "cell_type": "markdown",
      "metadata": {
        "id": "view-in-github",
        "colab_type": "text"
      },
      "source": [
        "<a href=\"https://colab.research.google.com/github/ArlexMR/ECE-614-DeepLearning/blob/main/Notebooks/01_PythonBasics_Exercises.ipynb\" target=\"_parent\"><img src=\"https://colab.research.google.com/assets/colab-badge.svg\" alt=\"Open In Colab\"/></a>"
      ]
    },
    {
      "cell_type": "markdown",
      "metadata": {
        "id": "APM6JIixBngV"
      },
      "source": [
        "For each of the following, make  the required modification to the value on the right in order to obtain a `True` statement  "
      ]
    },
    {
      "cell_type": "code",
      "execution_count": null,
      "metadata": {
        "id": "09Tq_UIBBngc",
        "outputId": "b6f2fbfc-b086-468b-972b-04ee67785320"
      },
      "outputs": [
        {
          "data": {
            "text/plain": [
              "False"
            ]
          },
          "execution_count": 11,
          "metadata": {},
          "output_type": "execute_result"
        }
      ],
      "source": [
        "int(9.8) == 10"
      ]
    },
    {
      "cell_type": "code",
      "execution_count": null,
      "metadata": {
        "id": "RkJxdSH9Bngl"
      },
      "outputs": [],
      "source": [
        "a = \"1\"\n",
        "type(a) == int"
      ]
    },
    {
      "cell_type": "code",
      "execution_count": null,
      "metadata": {
        "id": "a2Oe-UggBngn"
      },
      "outputs": [],
      "source": [
        "type(1) == float"
      ]
    },
    {
      "cell_type": "code",
      "execution_count": null,
      "metadata": {
        "id": "PA6Z0JB0Bngo"
      },
      "outputs": [],
      "source": [
        "l = [10,20,30,40,50]\n",
        "type(l) == int"
      ]
    },
    {
      "cell_type": "code",
      "execution_count": null,
      "metadata": {
        "id": "GSNZl6wIBngr",
        "outputId": "f1aff363-6d66-4440-f096-38405992b838"
      },
      "outputs": [
        {
          "data": {
            "text/plain": [
              "False"
            ]
          },
          "execution_count": 12,
          "metadata": {},
          "output_type": "execute_result"
        }
      ],
      "source": [
        "round(9.81) == 9.8"
      ]
    },
    {
      "cell_type": "code",
      "execution_count": null,
      "metadata": {
        "id": "0xb9CpvgBngs"
      },
      "outputs": [],
      "source": [
        "type(round(9.8)) == float"
      ]
    },
    {
      "cell_type": "code",
      "execution_count": null,
      "metadata": {
        "id": "YVSo7wS2Bng9",
        "outputId": "77b66393-7a77-42eb-ebdb-e9fd0577e6fc"
      },
      "outputs": [
        {
          "data": {
            "text/plain": [
              "False"
            ]
          },
          "execution_count": 73,
          "metadata": {},
          "output_type": "execute_result"
        }
      ],
      "source": [
        "round(3.141592,3) == 3"
      ]
    },
    {
      "cell_type": "code",
      "execution_count": null,
      "metadata": {
        "id": "7_DCFdAOBnhC",
        "outputId": "8103792d-589a-4faa-8d0e-c6442dee580c"
      },
      "outputs": [
        {
          "data": {
            "text/plain": [
              "False"
            ]
          },
          "execution_count": 72,
          "metadata": {},
          "output_type": "execute_result"
        }
      ],
      "source": [
        "type(round(3.141592,2)) == int"
      ]
    },
    {
      "cell_type": "code",
      "execution_count": null,
      "metadata": {
        "id": "TmTqBr-6Bnha",
        "outputId": "d832d1f7-0ea5-4c4b-e042-5306575efc6a"
      },
      "outputs": [
        {
          "data": {
            "text/plain": [
              "False"
            ]
          },
          "execution_count": 64,
          "metadata": {},
          "output_type": "execute_result"
        }
      ],
      "source": []
    },
    {
      "cell_type": "code",
      "execution_count": null,
      "metadata": {
        "id": "OyqFCXqjBnhd"
      },
      "outputs": [],
      "source": [
        "l = [10,20,30,40,50]\n",
        "type(l[0]) == list"
      ]
    },
    {
      "cell_type": "code",
      "execution_count": null,
      "metadata": {
        "id": "Z3vNlf8uBnhf",
        "outputId": "347ba761-6b73-4a8a-906c-40c9d71a1654"
      },
      "outputs": [
        {
          "data": {
            "text/plain": [
              "False"
            ]
          },
          "execution_count": 56,
          "metadata": {},
          "output_type": "execute_result"
        }
      ],
      "source": [
        "l = [10,20,30,40,50]\n",
        "\n",
        "l[0] == 0"
      ]
    },
    {
      "cell_type": "code",
      "execution_count": null,
      "metadata": {
        "id": "Cx2MYEbqBnhi",
        "outputId": "65250c5d-4da7-4e50-f077-da9120539943"
      },
      "outputs": [
        {
          "data": {
            "text/plain": [
              "False"
            ]
          },
          "execution_count": 57,
          "metadata": {},
          "output_type": "execute_result"
        }
      ],
      "source": [
        "l = [10,20,30,40,50]\n",
        "\n",
        "l[-1] == -1"
      ]
    },
    {
      "cell_type": "code",
      "execution_count": null,
      "metadata": {
        "id": "cCv6FRlIBnhj",
        "outputId": "91ec0d0a-ca48-463a-af9e-949d701431b9"
      },
      "outputs": [
        {
          "data": {
            "text/plain": [
              "False"
            ]
          },
          "execution_count": 58,
          "metadata": {},
          "output_type": "execute_result"
        }
      ],
      "source": [
        "l[1] == 10"
      ]
    },
    {
      "cell_type": "code",
      "execution_count": null,
      "metadata": {
        "id": "uN-SlUESBnhl",
        "outputId": "ffcc3d0d-cd10-4b13-e8a2-6e5c1c416d0e"
      },
      "outputs": [
        {
          "data": {
            "text/plain": [
              "False"
            ]
          },
          "execution_count": 21,
          "metadata": {},
          "output_type": "execute_result"
        }
      ],
      "source": [
        "60 in [10, 20, 40, 50]"
      ]
    },
    {
      "cell_type": "code",
      "execution_count": null,
      "metadata": {
        "id": "E5Sj20djBnho",
        "outputId": "5ad87c7f-e75f-436d-cdce-7609e4c03d8c"
      },
      "outputs": [
        {
          "data": {
            "text/plain": [
              "False"
            ]
          },
          "execution_count": 25,
          "metadata": {},
          "output_type": "execute_result"
        }
      ],
      "source": [
        "10 in list(range(10))"
      ]
    },
    {
      "cell_type": "code",
      "execution_count": null,
      "metadata": {
        "id": "ihZ_X6ghBnhp",
        "outputId": "aeca8a64-8b01-423f-ab50-a5e0f4a75648"
      },
      "outputs": [
        {
          "data": {
            "text/plain": [
              "False"
            ]
          },
          "execution_count": 27,
          "metadata": {},
          "output_type": "execute_result"
        }
      ],
      "source": [
        "l = list(range(1,3))\n",
        "len(l) == 3\n"
      ]
    },
    {
      "cell_type": "code",
      "execution_count": null,
      "metadata": {
        "id": "rkES8v-zBnhr",
        "outputId": "ac1be2a9-2882-4a25-9d69-9d8ae982536a"
      },
      "outputs": [
        {
          "data": {
            "text/plain": [
              "False"
            ]
          },
          "execution_count": 28,
          "metadata": {},
          "output_type": "execute_result"
        }
      ],
      "source": [
        "l = list(range(5,10))\n",
        "l[0] == 0"
      ]
    },
    {
      "cell_type": "code",
      "execution_count": null,
      "metadata": {
        "id": "py8XYr2hBnhs",
        "outputId": "14ff2f45-ca6a-4d13-d812-02af9d68888d"
      },
      "outputs": [
        {
          "data": {
            "text/plain": [
              "False"
            ]
          },
          "execution_count": 29,
          "metadata": {},
          "output_type": "execute_result"
        }
      ],
      "source": [
        "l = list(range(5,10))\n",
        "l[1] == 5"
      ]
    },
    {
      "cell_type": "code",
      "execution_count": null,
      "metadata": {
        "id": "lPlVPMLaBnhu",
        "outputId": "27aa1f9e-cea8-4dc0-c45f-c0ea32159b8b"
      },
      "outputs": [
        {
          "data": {
            "text/plain": [
              "False"
            ]
          },
          "execution_count": 30,
          "metadata": {},
          "output_type": "execute_result"
        }
      ],
      "source": [
        "l = list(range(5,10))\n",
        "l[-1] == 10"
      ]
    },
    {
      "cell_type": "code",
      "execution_count": null,
      "metadata": {
        "id": "6G7ENQWnBnhv",
        "outputId": "2b9907ae-40f3-48d1-d815-8d8b632aa254"
      },
      "outputs": [
        {
          "data": {
            "text/plain": [
              "False"
            ]
          },
          "execution_count": 35,
          "metadata": {},
          "output_type": "execute_result"
        }
      ],
      "source": [
        "l = list(range(5,15,2))\n",
        "l[-1] == 14"
      ]
    },
    {
      "cell_type": "code",
      "execution_count": null,
      "metadata": {
        "id": "AWAZmr41Bnhx",
        "outputId": "aae8b11c-7fcd-4726-bd2d-e7526ff54275"
      },
      "outputs": [
        {
          "data": {
            "text/plain": [
              "False"
            ]
          },
          "execution_count": 36,
          "metadata": {},
          "output_type": "execute_result"
        }
      ],
      "source": [
        "l = [10,20,30,40,50]\n",
        "\n",
        "l[:2] == [10,20,30]"
      ]
    },
    {
      "cell_type": "code",
      "execution_count": null,
      "metadata": {
        "id": "uq6BpvtuBnhy",
        "outputId": "dc6262e9-38df-46fd-c7e8-cd888ed83c25"
      },
      "outputs": [
        {
          "data": {
            "text/plain": [
              "False"
            ]
          },
          "execution_count": 41,
          "metadata": {},
          "output_type": "execute_result"
        }
      ],
      "source": [
        "l = [10,20,30,40,50]\n",
        "\n",
        "l[1:] == [10, 20, 30, 40, 50]"
      ]
    },
    {
      "cell_type": "code",
      "execution_count": null,
      "metadata": {
        "id": "NTODoWLQBnhz",
        "outputId": "612b3460-2af4-4574-b8bc-e91ba0c6feaf"
      },
      "outputs": [
        {
          "data": {
            "text/plain": [
              "False"
            ]
          },
          "execution_count": 65,
          "metadata": {},
          "output_type": "execute_result"
        }
      ],
      "source": [
        "l = [10,20,30,40,50]\n",
        "type(l[0:1]) == int"
      ]
    },
    {
      "cell_type": "code",
      "execution_count": null,
      "metadata": {
        "id": "upP12UQnBnh0",
        "outputId": "800a1722-72da-41e5-d51f-7e579d0f7bb4"
      },
      "outputs": [
        {
          "data": {
            "text/plain": [
              "False"
            ]
          },
          "execution_count": 42,
          "metadata": {},
          "output_type": "execute_result"
        }
      ],
      "source": [
        "l = [10,20,30,40,50]\n",
        "\n",
        "l[0:1] == 10"
      ]
    },
    {
      "cell_type": "code",
      "execution_count": null,
      "metadata": {
        "id": "kQMs0isSBnh2",
        "outputId": "77025974-1515-4eb0-b07a-eda43907c6f6"
      },
      "outputs": [
        {
          "data": {
            "text/plain": [
              "False"
            ]
          },
          "execution_count": 62,
          "metadata": {},
          "output_type": "execute_result"
        }
      ],
      "source": [
        "l = list(range(0,1000,100))\n",
        "l[:3] == [0,1,2]"
      ]
    },
    {
      "cell_type": "code",
      "execution_count": null,
      "metadata": {
        "id": "b3wCM2DyBniG",
        "outputId": "4bb61d25-b273-46e9-c1c1-38da49346e79"
      },
      "outputs": [
        {
          "data": {
            "text/plain": [
              "False"
            ]
          },
          "execution_count": 45,
          "metadata": {},
          "output_type": "execute_result"
        }
      ],
      "source": [
        "l = list(range(100))\n",
        "type(l) == str"
      ]
    },
    {
      "cell_type": "code",
      "execution_count": null,
      "metadata": {
        "id": "RdpmAilhBniH"
      },
      "outputs": [],
      "source": [
        "val = \"cat\"\n",
        "val[1] == \"c\""
      ]
    },
    {
      "cell_type": "code",
      "execution_count": null,
      "metadata": {
        "id": "MAHIHoz-BniJ"
      },
      "outputs": [],
      "source": [
        "l = [\"cat\"]\n",
        "type(l) = str"
      ]
    },
    {
      "cell_type": "code",
      "execution_count": null,
      "metadata": {
        "id": "AT7njvQCBniK",
        "outputId": "1f0803e4-f218-48de-f2d8-3eb4fc3fba8c"
      },
      "outputs": [
        {
          "data": {
            "text/plain": [
              "False"
            ]
          },
          "execution_count": 47,
          "metadata": {},
          "output_type": "execute_result"
        }
      ],
      "source": [
        "l = [\"cat\"]\n",
        "type(l[0]) == list"
      ]
    },
    {
      "cell_type": "code",
      "execution_count": null,
      "metadata": {
        "id": "teVZK-Z9BniL",
        "outputId": "05334b5c-aa98-4683-9882-f6f2ee936565"
      },
      "outputs": [
        {
          "data": {
            "text/plain": [
              "False"
            ]
          },
          "execution_count": 68,
          "metadata": {},
          "output_type": "execute_result"
        }
      ],
      "source": [
        "l = [\"1_cat\"]\n",
        "l[0][1] == \"1\""
      ]
    },
    {
      "cell_type": "code",
      "execution_count": null,
      "metadata": {
        "id": "9nmVWYm7BniM",
        "outputId": "442746ea-d71d-49d4-bcb1-f50c25f35aec"
      },
      "outputs": [
        {
          "data": {
            "text/plain": [
              "False"
            ]
          },
          "execution_count": 69,
          "metadata": {},
          "output_type": "execute_result"
        }
      ],
      "source": [
        "l = [\"1_cat\"]\n",
        "type(l[0][0]) == int"
      ]
    },
    {
      "cell_type": "code",
      "execution_count": null,
      "metadata": {
        "id": "APKfK-1KBniO",
        "outputId": "187828f5-3a48-4501-e55b-ddb2a66f819b"
      },
      "outputs": [
        {
          "data": {
            "text/plain": [
              "False"
            ]
          },
          "execution_count": 55,
          "metadata": {},
          "output_type": "execute_result"
        }
      ],
      "source": [
        "val = \"cat \"\n",
        "val[-1] == \"t\""
      ]
    },
    {
      "cell_type": "markdown",
      "metadata": {
        "id": "54YDc4uNBniP"
      },
      "source": [
        "For each of the following, define the variable a such that the code inside the conditional statement is executed"
      ]
    },
    {
      "cell_type": "code",
      "execution_count": null,
      "metadata": {
        "id": "K2QXQDNQBniQ",
        "outputId": "54897f14-3ad3-4b86-d35e-8cf8375e766b"
      },
      "outputs": [
        {
          "ename": "SyntaxError",
          "evalue": "invalid syntax (Temp/ipykernel_8580/3798654116.py, line 1)",
          "output_type": "error",
          "traceback": [
            "\u001b[1;36m  File \u001b[1;32m\"C:\\Users\\pc\\AppData\\Local\\Temp/ipykernel_8580/3798654116.py\"\u001b[1;36m, line \u001b[1;32m1\u001b[0m\n\u001b[1;33m    a =\u001b[0m\n\u001b[1;37m        ^\u001b[0m\n\u001b[1;31mSyntaxError\u001b[0m\u001b[1;31m:\u001b[0m invalid syntax\n"
          ]
        }
      ],
      "source": [
        "a =\n",
        "\n",
        "if type(a) == str:\n",
        "    print(\"You got it!\")"
      ]
    },
    {
      "cell_type": "markdown",
      "metadata": {
        "id": "-rHkh_SaBniS"
      },
      "source": [
        "1. Define a variable `gamma` and assign to it the unit weight of the water  \n",
        "\n",
        "2. Define a variable `depth` and assign to it a value\n",
        "\n",
        "3. Define a variable `P_atm` and assign to it a value corresponding to the atmospheric pressure\n",
        "\n",
        "4. Compute the pressure using the hidrostatic equation and assign the result to a variable `pressure`:  \n",
        "\n",
        "$$P = P_0 +  \\gamma h$$\n",
        "\n",
        "Make sure to be consistent with the units. Include conversion factors if needed.\n",
        "\n",
        "5. Using the function `print()`, print the following:\n",
        "\n",
        "```\n",
        "The absolute pressure at [depth] depth is [pressure]  \n",
        "\n",
        "```\n",
        "Replace `[depth]` and `[pressure]` with their respective values and units"
      ]
    },
    {
      "cell_type": "code",
      "execution_count": null,
      "metadata": {
        "id": "5cALdH1nBniT"
      },
      "outputs": [],
      "source": []
    },
    {
      "cell_type": "markdown",
      "metadata": {
        "id": "JLkc5LXjBniU"
      },
      "source": [
        "Same as previous problem but include an additional variable called `absolute` and assign to it the boolean value `False`. Write the required lines of code to compute the absolute or relative pressure according to the value in `absolute` (*hint: use an `if`  statement*).  \n",
        "Remember that **relative** pressure is:\n",
        "\n",
        "$$ P = \\gamma h$$\n",
        "\n",
        "The final output should be: (replace `[absolute/relative]` accordingly):\n",
        "\n",
        "```\n",
        "The [absolute/relative] pressure at [depth] depth is [pressure]  \n",
        "\n",
        "```"
      ]
    },
    {
      "cell_type": "code",
      "execution_count": null,
      "metadata": {
        "id": "76FhYkERBniV"
      },
      "outputs": [],
      "source": []
    },
    {
      "cell_type": "markdown",
      "metadata": {
        "id": "I601A0AHBniW"
      },
      "source": [
        "Define 5 variables according to the following table. Make sure to use  the variable names and data types **Exactly** as specified\n",
        "\n",
        "Variable Name | Value   | Data type\n",
        "------- | --------  | ---------\n",
        "code            | 1000              | str\n",
        "active          | True              | bool\n",
        "start_date      | 1995-01-01        | str\n",
        "end_date        | NA                | str\n",
        "total_samples   | 10500             | int\n",
        "params          | ['disch','temp','turb'] | list\n",
        "\n"
      ]
    },
    {
      "cell_type": "code",
      "execution_count": null,
      "metadata": {
        "id": "MHwtI5r-BniX"
      },
      "outputs": [],
      "source": [
        "code = \"1000\",\n",
        "active = True,\n",
        "start_date = \"1995-01-01\",\n",
        "end_date = \"NA\",\n",
        "total_samples = 10500,\n",
        "params = ['disch', 'temp', 'turb']"
      ]
    },
    {
      "cell_type": "markdown",
      "metadata": {
        "id": "JgAgXgKJBniZ"
      },
      "source": [
        "The following code block intend to create a `dictionary` using the variables created in the previous step. However, the code contains two errors. Fix the errors to get the desired result. Note that the error returned after running the code should be helpful to spot the error.  "
      ]
    },
    {
      "cell_type": "code",
      "execution_count": null,
      "metadata": {
        "id": "B0-9Ek4yBnia",
        "outputId": "a1a90088-d2a3-44db-ab32-f491a9adf73a"
      },
      "outputs": [
        {
          "ename": "NameError",
          "evalue": "name 'end' is not defined",
          "output_type": "error",
          "traceback": [
            "\u001b[1;31m---------------------------------------------------------------------------\u001b[0m",
            "\u001b[1;31mNameError\u001b[0m                                 Traceback (most recent call last)",
            "\u001b[1;32m~\\AppData\\Local\\Temp/ipykernel_8580/204616335.py\u001b[0m in \u001b[0;36m<module>\u001b[1;34m\u001b[0m\n\u001b[1;32m----> 1\u001b[1;33m \u001b[0mmetadata\u001b[0m \u001b[1;33m=\u001b[0m \u001b[1;33m{\u001b[0m\u001b[1;34m\"Code\"\u001b[0m\u001b[1;33m:\u001b[0m \u001b[0mcode\u001b[0m\u001b[1;33m,\u001b[0m \u001b[1;34m\"Active\"\u001b[0m\u001b[1;33m:\u001b[0m \u001b[0mactive\u001b[0m\u001b[1;33m,\u001b[0m \u001b[1;34m\"Start\"\u001b[0m\u001b[1;33m:\u001b[0m\u001b[0mstart_date\u001b[0m\u001b[1;33m,\u001b[0m \u001b[0mend\u001b[0m\u001b[1;33m:\u001b[0m \u001b[0mend_date\u001b[0m\u001b[1;33m,\u001b[0m \u001b[1;34m\"samples\"\u001b[0m \u001b[1;33m:\u001b[0m \u001b[0mtotal_samples\u001b[0m\u001b[1;33m,\u001b[0m \u001b[1;34m\"params\"\u001b[0m\u001b[1;33m:\u001b[0m \u001b[0mparams\u001b[0m\u001b[1;33m}\u001b[0m\u001b[1;33m\u001b[0m\u001b[1;33m\u001b[0m\u001b[0m\n\u001b[0m",
            "\u001b[1;31mNameError\u001b[0m: name 'end' is not defined"
          ]
        }
      ],
      "source": [
        "st_metadata = {\"Code\": code, \"Active\": active, \"Start\":start_date, End: end_date, \"Samples\" : total_samples, \"Params\": params}"
      ]
    },
    {
      "cell_type": "markdown",
      "metadata": {
        "id": "DAWQOoCdBnic"
      },
      "source": []
    },
    {
      "cell_type": "markdown",
      "metadata": {
        "id": "FWv8UiqxBnic"
      },
      "source": [
        "Operator      |Description                                   \n",
        "----------------------|-----------------\n",
        "`a and b` | Return `True` when both statements are `True`\n",
        " `a or b`  | Return `True` when either `a` or `b` is `True`\n",
        " `not a`   | Reverse the result, returns False if `a` is true"
      ]
    },
    {
      "cell_type": "code",
      "execution_count": null,
      "metadata": {
        "id": "HaokIaLXBnie"
      },
      "outputs": [],
      "source": [
        "a = 257\n",
        "b = 257"
      ]
    },
    {
      "cell_type": "code",
      "execution_count": null,
      "metadata": {
        "id": "L4Ib5cNWBnif"
      },
      "outputs": [],
      "source": [
        "my_dict = {'a': 3, 'b' : [10, 20, 30], 'c' : '3.141592' }"
      ]
    },
    {
      "cell_type": "markdown",
      "metadata": {
        "id": "h26F6xHlBnig"
      },
      "source": [
        "print()"
      ]
    },
    {
      "cell_type": "code",
      "execution_count": null,
      "metadata": {
        "id": "PQ9HqJYQBnih",
        "outputId": "82e8a633-fb4f-4764-d6dc-3a6788e3687d"
      },
      "outputs": [
        {
          "name": "stdout",
          "output_type": "stream",
          "text": [
            "3\n"
          ]
        }
      ],
      "source": [
        "print('3')"
      ]
    },
    {
      "cell_type": "code",
      "execution_count": null,
      "metadata": {
        "id": "0ca3VULZBnij",
        "outputId": "f73cbbaa-3fda-4901-96e1-96dd345e32e7"
      },
      "outputs": [
        {
          "ename": "TypeError",
          "evalue": "unsupported operand type(s) for +: 'int' and 'str'",
          "output_type": "error",
          "traceback": [
            "\u001b[1;31m---------------------------------------------------------------------------\u001b[0m",
            "\u001b[1;31mTypeError\u001b[0m                                 Traceback (most recent call last)",
            "\u001b[1;32m~\\AppData\\Local\\Temp/ipykernel_6676/578305587.py\u001b[0m in \u001b[0;36m<module>\u001b[1;34m\u001b[0m\n\u001b[1;32m----> 1\u001b[1;33m \u001b[0mmy_dict\u001b[0m\u001b[1;33m[\u001b[0m\u001b[1;34m'a'\u001b[0m\u001b[1;33m]\u001b[0m \u001b[1;33m+\u001b[0m \u001b[0mmy_dict\u001b[0m\u001b[1;33m[\u001b[0m\u001b[1;34m'c'\u001b[0m\u001b[1;33m]\u001b[0m\u001b[1;33m\u001b[0m\u001b[1;33m\u001b[0m\u001b[0m\n\u001b[0m",
            "\u001b[1;31mTypeError\u001b[0m: unsupported operand type(s) for +: 'int' and 'str'"
          ]
        }
      ],
      "source": [
        "my_dict['a'] + my_dict['c']"
      ]
    },
    {
      "cell_type": "code",
      "execution_count": null,
      "metadata": {
        "id": "rwGS7jIzBnil",
        "outputId": "181cc32f-d645-4d89-f882-f26219243116"
      },
      "outputs": [
        {
          "ename": "TypeError",
          "evalue": "unsupported operand type(s) for ^: 'float' and 'int'",
          "output_type": "error",
          "traceback": [
            "\u001b[1;31m---------------------------------------------------------------------------\u001b[0m",
            "\u001b[1;31mTypeError\u001b[0m                                 Traceback (most recent call last)",
            "\u001b[1;32m~\\AppData\\Local\\Temp/ipykernel_6676/835411187.py\u001b[0m in \u001b[0;36m<module>\u001b[1;34m\u001b[0m\n\u001b[0;32m      1\u001b[0m \u001b[0mradius\u001b[0m \u001b[1;33m=\u001b[0m \u001b[1;36m3.1\u001b[0m\u001b[1;33m\u001b[0m\u001b[1;33m\u001b[0m\u001b[0m\n\u001b[0;32m      2\u001b[0m \u001b[0mpi\u001b[0m \u001b[1;33m=\u001b[0m \u001b[1;36m3.141592\u001b[0m\u001b[1;33m\u001b[0m\u001b[1;33m\u001b[0m\u001b[0m\n\u001b[1;32m----> 3\u001b[1;33m \u001b[1;33m(\u001b[0m\u001b[1;36m4\u001b[0m \u001b[1;33m/\u001b[0m \u001b[1;36m3\u001b[0m\u001b[1;33m)\u001b[0m \u001b[1;33m*\u001b[0m \u001b[0mpi\u001b[0m \u001b[1;33m*\u001b[0m \u001b[0mradius\u001b[0m \u001b[1;33m^\u001b[0m \u001b[1;36m3\u001b[0m\u001b[1;33m\u001b[0m\u001b[1;33m\u001b[0m\u001b[0m\n\u001b[0m",
            "\u001b[1;31mTypeError\u001b[0m: unsupported operand type(s) for ^: 'float' and 'int'"
          ]
        }
      ],
      "source": [
        "radius = 3.1\n",
        "pi = 3.141592\n",
        "(4 / 3) * pi * radius ^ 3"
      ]
    },
    {
      "cell_type": "code",
      "execution_count": null,
      "metadata": {
        "id": "NdLSVbTZBniu"
      },
      "outputs": [],
      "source": [
        "a = 25\n",
        "b ="
      ]
    }
  ],
  "metadata": {
    "kernelspec": {
      "display_name": "HysteresisPaper",
      "language": "python",
      "name": "python3"
    },
    "language_info": {
      "codemirror_mode": {
        "name": "ipython",
        "version": 3
      },
      "file_extension": ".py",
      "mimetype": "text/x-python",
      "name": "python",
      "nbconvert_exporter": "python",
      "pygments_lexer": "ipython3",
      "version": "3.9.7"
    },
    "orig_nbformat": 4,
    "colab": {
      "provenance": [],
      "include_colab_link": true
    }
  },
  "nbformat": 4,
  "nbformat_minor": 0
}